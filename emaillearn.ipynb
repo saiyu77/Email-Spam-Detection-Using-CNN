{
 "cells": [
  {
   "cell_type": "code",
   "execution_count": 2,
   "metadata": {
    "id": "aBjW9AeUy0Uk"
   },
   "outputs": [],
   "source": [
    "import pandas as pd\n",
    "import numpy as np\n",
    "from sklearn.model_selection import train_test_split\n",
    "from sklearn.preprocessing import LabelEncoder\n",
    "from sklearn.metrics import classification_report\n",
    "from sklearn.metrics import accuracy_score, precision_score, recall_score, f1_score, roc_auc_score\n",
    "from tensorflow.keras.preprocessing.text import Tokenizer\n",
    "from tensorflow.keras.preprocessing.sequence import pad_sequences\n",
    "from tensorflow.keras.models import Sequential\n",
    "from tensorflow.keras.layers import Embedding, Conv1D, GlobalMaxPooling1D, SimpleRNN, LSTM, GRU, Dense\n",
    "from tensorflow.keras.callbacks import EarlyStopping"
   ]
  },
  {
   "cell_type": "code",
   "execution_count": 4,
   "metadata": {
    "colab": {
     "base_uri": "https://localhost:8080/",
     "height": 206
    },
    "id": "-LaUgyxEzUJy",
    "outputId": "bd2418bb-4a86-48ac-b87f-eb02cf1aea49"
   },
   "outputs": [
    {
     "data": {
      "text/html": [
       "<div>\n",
       "<style scoped>\n",
       "    .dataframe tbody tr th:only-of-type {\n",
       "        vertical-align: middle;\n",
       "    }\n",
       "\n",
       "    .dataframe tbody tr th {\n",
       "        vertical-align: top;\n",
       "    }\n",
       "\n",
       "    .dataframe thead th {\n",
       "        text-align: right;\n",
       "    }\n",
       "</style>\n",
       "<table border=\"1\" class=\"dataframe\">\n",
       "  <thead>\n",
       "    <tr style=\"text-align: right;\">\n",
       "      <th></th>\n",
       "      <th>text</th>\n",
       "      <th>spam</th>\n",
       "    </tr>\n",
       "  </thead>\n",
       "  <tbody>\n",
       "    <tr>\n",
       "      <th>5209</th>\n",
       "      <td>Subject: term paper  please respond to  vince ...</td>\n",
       "      <td>0</td>\n",
       "    </tr>\n",
       "    <tr>\n",
       "      <th>342</th>\n",
       "      <td>Subject: 9 % commission on myg annuities  call...</td>\n",
       "      <td>1</td>\n",
       "    </tr>\n",
       "    <tr>\n",
       "      <th>3196</th>\n",
       "      <td>Subject: re : fw : eprm article  chris ,  i ha...</td>\n",
       "      <td>0</td>\n",
       "    </tr>\n",
       "    <tr>\n",
       "      <th>4156</th>\n",
       "      <td>Subject: re : requests for help  thanks vince .</td>\n",
       "      <td>0</td>\n",
       "    </tr>\n",
       "    <tr>\n",
       "      <th>5505</th>\n",
       "      <td>Subject: aram ' s visit  jesus ,  friday , apr...</td>\n",
       "      <td>0</td>\n",
       "    </tr>\n",
       "  </tbody>\n",
       "</table>\n",
       "</div>"
      ],
      "text/plain": [
       "                                                   text  spam\n",
       "5209  Subject: term paper  please respond to  vince ...     0\n",
       "342   Subject: 9 % commission on myg annuities  call...     1\n",
       "3196  Subject: re : fw : eprm article  chris ,  i ha...     0\n",
       "4156    Subject: re : requests for help  thanks vince .     0\n",
       "5505  Subject: aram ' s visit  jesus ,  friday , apr...     0"
      ]
     },
     "execution_count": 4,
     "metadata": {},
     "output_type": "execute_result"
    }
   ],
   "source": [
    "df = pd.read_csv(\"emails.csv\").dropna()\n",
    "df.sample(5)"
   ]
  },
  {
   "cell_type": "code",
   "execution_count": 6,
   "metadata": {
    "colab": {
     "base_uri": "https://localhost:8080/"
    },
    "id": "vd_b0zpr07pd",
    "outputId": "904244f7-04ac-45c9-922f-c9e514a77278"
   },
   "outputs": [
    {
     "name": "stdout",
     "output_type": "stream",
     "text": [
      "33\n"
     ]
    }
   ],
   "source": [
    "print(df.duplicated().sum())"
   ]
  },
  {
   "cell_type": "code",
   "execution_count": 8,
   "metadata": {
    "id": "9uckY1li1E4d"
   },
   "outputs": [],
   "source": [
    "df.drop_duplicates(inplace=True)"
   ]
  },
  {
   "cell_type": "code",
   "execution_count": 10,
   "metadata": {
    "id": "NPdmtbL712tx"
   },
   "outputs": [],
   "source": [
    "def process(text):\n",
    "    nopunc = [char for char in text if char not in string.punctuation]\n",
    "    nopunc = ''.join(nopunc)\n",
    "    clean = [word for word in nopunc.split() if word.lower() not in stopwords.words('english')]\n",
    "    return clean"
   ]
  },
  {
   "cell_type": "code",
   "execution_count": 12,
   "metadata": {
    "id": "6rHjWvkTzbXd"
   },
   "outputs": [],
   "source": [
    "max_words = 5000\n",
    "max_len = 100\n",
    "tokenizer = Tokenizer(num_words=max_words)\n",
    "tokenizer.fit_on_texts(df['text'])\n",
    "X_seq = tokenizer.texts_to_sequences(df['text'])\n",
    "X_pad = pad_sequences(X_seq, maxlen=max_len)\n",
    "y = df['spam']"
   ]
  },
  {
   "cell_type": "code",
   "execution_count": 20,
   "metadata": {
    "id": "wRIJE4CX4mEu"
   },
   "outputs": [],
   "source": [
    "X_temp, X_test, y_temp, y_test = train_test_split(X_pad, y, test_size=0.2, random_state=42)\n",
    "\n",
    "# Second split: train and val\n",
    "X_train, X_val, y_train, y_val = train_test_split(X_temp, y_temp, test_size=0.2, random_state=42)"
   ]
  },
  {
   "cell_type": "code",
   "execution_count": 22,
   "metadata": {
    "colab": {
     "base_uri": "https://localhost:8080/"
    },
    "id": "Yqbgpk4FzsZq",
    "outputId": "b16bf56b-7038-4d85-c53d-d8658d6834b2"
   },
   "outputs": [
    {
     "name": "stdout",
     "output_type": "stream",
     "text": [
      "Class Weights: [0.65357015 2.12792056]\n"
     ]
    }
   ],
   "source": [
    "from sklearn.utils.class_weight import compute_class_weight\n",
    "\n",
    "class_weights = compute_class_weight(class_weight='balanced',\n",
    "                                     classes=np.array([0, 1]),\n",
    "                                     y=y_train)\n",
    "print(\"Class Weights:\", class_weights)"
   ]
  },
  {
   "cell_type": "code",
   "execution_count": 24,
   "metadata": {
    "colab": {
     "base_uri": "https://localhost:8080/"
    },
    "id": "yhtlYqap1nTp",
    "outputId": "e61dcc1a-22dc-407d-caf0-242dccbddeea"
   },
   "outputs": [
    {
     "name": "stdout",
     "output_type": "stream",
     "text": [
      "X_train shape: (3643, 100)\n",
      "X_val shape: (911, 100)\n",
      "y_train shape: (3643,)\n",
      "y_val shape: (911,)\n",
      "\n",
      "X_train example:\n",
      " [[   0    0    0    0    0    0    0    0    0   15   45 1174  569   22\n",
      "   173  130  744  139  913  120   32  913 1750   10  150   11  138  148\n",
      "    52  148 1216   36  637  138  216   52   96  138   51    2  913 1750\n",
      "    10  150   10  150   46 1327   10  150   10  150   15   45 1174  569\n",
      "   913  130    2   82    6   62    8   71   25    5 1064    4  971    7\n",
      "   238   20 3863  390 2367  225   65   17  224 2068   74    6 1086  347\n",
      "     5 2516  771    3   19    6 1086  421    5  266  497  139    2    1\n",
      "   989  637]\n",
      " [ 120   32  173  296   31   13   11   96  174   37   96  300   36  365\n",
      "   570   96  283   37  121  985   51    2  173  296   31   13   13   46\n",
      "    22   47   39   31   13   13   15 1606 2193 4308 1124  135  173    8\n",
      "   955    1  520  202  328  453    2  569  158    1  203    4 2065   12\n",
      "   910    3    1 1121   12   40  534  926    1  135    5  605    4  244\n",
      "    32  399  650 3821    1 1452    4 1121    8   89  669   49   65    1\n",
      "   135   11    1 1279  673    8  178   21   28  711    2    1  135  524\n",
      "    50  365]\n",
      " [1154 2290   41   18 1635  212    1 2714  336    4 2475  104   28  146\n",
      "    85  251 2363  109  104    3   85  745    9 1154 1994   12  727    8\n",
      "    36 2026    5   78  673  427   32 4522 2580  318  107 1774   19   78\n",
      "     4    1 2622 2179    9    1 2714    2   18   73 2781   12  195 1329\n",
      "  2363   32   50    5  128  335   11    1 1165    3   54    5 2714   35\n",
      "     1  128   12 2361  107   23   18 1455    2  613   73    9    1 2714\n",
      "  4090    1  134   84    8   14  252  519    2  655   73  565  155  147\n",
      "  2623  392]\n",
      " [  97  940  985   51  234  314  798 1311  412  574  735 3913   50 1387\n",
      "    80 1111   40 1385  208 1709 1579 3371   32  798  158  412  471 1024\n",
      "    97  174  106  748   51 1833  411 1311 1905  146    1  198 1354   91\n",
      "    28 2587 2638  747 3858 2638  618   54   64  105   91  187 1276 1837\n",
      "  1276 1837 1276 1837 1276 1837  373    5  594   97  121   37   97 1140\n",
      "   343   51   97  121   37   97  748 1011   51   97  121   37   97  940\n",
      "    98   51   97  121   37   97  940  985   51   97  174   37  106  748\n",
      "   265   51]\n",
      " [   0    0    0    0    0    0    0    0    0    0    0    0    0    0\n",
      "     0    0    0    0    0    0    0    0    0    0    0    0    0    0\n",
      "     0    0    0    0    0    0    0    0    0    0    0    0    0    0\n",
      "     0    0    0    0    0    0    0    0    0    0   15   45  293 3002\n",
      "   186  173  114  465   22  173  296  148  136   37  106 1085   51    2\n",
      "    22   47   39   31   13   13   46  103  162   31   13   13   15  293\n",
      "  3002  186   22   63    8  189    5  769  151  155  293 3002  186  131\n",
      "    61  173]]\n",
      "\n",
      "X_val example:\n",
      " [[ 181  653   11  133 2462  696  414   28 1263  246   32 3981    3    8\n",
      "   177    2   18   49  739 3829    7   16 1581  345   48  200    2   10\n",
      "    24    2 1421  268   21   44  326   84    1  199    3  662  278   25\n",
      "   330   35   85  646   27  268    1  333    4  304   12  480    9  547\n",
      "   696  195   35    1  200   44 1421  246   21   79    1 2899 4002  255\n",
      "    21   44  292   27    7   63    8 1476  104   23   18 1349 3382  280\n",
      "  1638  158    1  199 2130  351   38   82   42   62   87    6  178  141\n",
      "   139 1033]\n",
      " [   3    1  226  211   57 2069  180    4 4595  424  438  107   24  160\n",
      "   174  297 3097  508    7    1  226    3   72 1607  253    3   24 1567\n",
      "   251 1652    7 1530    3  650 4406  107   28    1 3858    4    1  337\n",
      "  2709  370  404 1778    3    4 2372  211    1  316    4    1 2616 1778\n",
      "   133  337   72  370  344    3   75  118   12  453    2   18 1567  386\n",
      "     1  657 1570   37  391  133 2039   28    7    1   72  370  542  318\n",
      "   107   24 1060    5 1497 1158    4  344  951    9  492  211    3  122\n",
      "    72  370]\n",
      " [   0    0    0    0    0    0    0    0    0    0    0    0    0    0\n",
      "     0    0    0    0    0   15   45 2569  690  800 2093 1936  243   41\n",
      "    18   22 2093 1936 2492 1736   11   59  163   37   59   96  985   36\n",
      "     2   22   47   39   10   33   46   15   45 2569  690  800  232  341\n",
      "    39   27 1742  486 3212   19  389   20    6   12 1900    9  474   41\n",
      "     6 1861    2   24  474   11  339 1341   34  243 1341    8  178   27\n",
      "    41   18  491  243 1341   30   21  129  361    1  224  456 2093 1936\n",
      "  2492 1736]\n",
      " [1239  526   19 3824    1  117  512    8   36  146  549    8  205    2\n",
      "  4278  444    2    1 2819  170  497    8  781  158    8  421 1472   30\n",
      "   478    7 1648 2165   38  129    6  165   42  213    5  354    4   19\n",
      "   224  587   11   81   34   35   27   12 1375   11    1  538 4681  255\n",
      "     8  129  261   27  160    1 2449    8   23   18 1720    1  149  634\n",
      "    85   36  391  938    2   60    5 1039    4 1831    7 2860   61  108\n",
      "   225    7 1255  156  115    2 1153    1  224  160   94    7  238  654\n",
      "   139 4468]\n",
      " [  14   99 1299  229   26    6  641   70   12 2528  220    7  242    9\n",
      "    10    3   84 3212   19   70 1234   14   99 1075    2   18    3  460\n",
      "   146  603    5 1077    5  929  491  212    1   78   70   58   25 1378\n",
      "     8  866  175   19    8   41  518   84   20    6    2  127  318    6\n",
      "   603    2  245   26   94    3   19    8   41   79  229    2  175   30\n",
      "   385   30    8  256   95 1449   26    6   38   82   42   62   35    6\n",
      "    41   74   42    2   60  716  799   34  254  109   55   73   67   26\n",
      "   175  610]]\n"
     ]
    }
   ],
   "source": [
    "print(\"X_train shape:\", X_train.shape)\n",
    "print(\"X_val shape:\", X_val.shape)\n",
    "print(\"y_train shape:\", y_train.shape)\n",
    "print(\"y_val shape:\", y_val.shape)\n",
    "\n",
    "print(\"\\nX_train example:\\n\", X_train[:5])\n",
    "print(\"\\nX_val example:\\n\", X_val[:5])"
   ]
  },
  {
   "cell_type": "code",
   "execution_count": 26,
   "metadata": {
    "colab": {
     "base_uri": "https://localhost:8080/"
    },
    "id": "AB54ZXQR8g-f",
    "outputId": "cc09bbcb-0dbc-4b54-c846-fbcea619fdac"
   },
   "outputs": [
    {
     "name": "stdout",
     "output_type": "stream",
     "text": [
      "Text data processed for Deep Learning models!\n"
     ]
    }
   ],
   "source": [
    "# First, split the original text data using the same indices as X_combined\n",
    "X_train_indices, X_val_indices = train_test_split(df.index, test_size=0.2, random_state=42)\n",
    "\n",
    "# Use these indices to get the original text data\n",
    "X_train_texts = df.loc[X_train_indices, 'text'].tolist()\n",
    "X_val_texts = df.loc[X_val_indices, 'text'].tolist()\n",
    "\n",
    "print(\"Text data processed for Deep Learning models!\")"
   ]
  },
  {
   "cell_type": "code",
   "execution_count": 28,
   "metadata": {
    "id": "SCL4PRaG8pbX"
   },
   "outputs": [],
   "source": [
    "def create_model(model_type):\n",
    "    model = Sequential()\n",
    "    model.add(Embedding(max_words, 50, input_length=max_len))\n",
    "\n",
    "    if model_type == \"CNN\":\n",
    "        model.add(Conv1D(64, 5, activation='relu'))\n",
    "        model.add(GlobalMaxPooling1D())\n",
    "    elif model_type == \"RNN\":\n",
    "        model.add(SimpleRNN(64))\n",
    "    elif model_type == \"LSTM\":\n",
    "        model.add(LSTM(64))\n",
    "    elif model_type == \"GRU\":\n",
    "      model.add(GRU(64))\n",
    "    else:\n",
    "        raise ValueError(\"Invalid model type\")\n",
    "\n",
    "    model.add(Dense(1, activation='sigmoid'))\n",
    "    model.compile(optimizer='adam', loss='binary_crossentropy', metrics=['accuracy'])\n",
    "    return model"
   ]
  },
  {
   "cell_type": "code",
   "execution_count": 30,
   "metadata": {
    "colab": {
     "base_uri": "https://localhost:8080/"
    },
    "id": "XStoH0Bc8upQ",
    "outputId": "f49e2a0f-787b-4b7a-f50c-614177060b1a"
   },
   "outputs": [
    {
     "name": "stdout",
     "output_type": "stream",
     "text": [
      "Training CNN model...\n"
     ]
    },
    {
     "name": "stderr",
     "output_type": "stream",
     "text": [
      "C:\\Users\\ASUS\\anaconda3\\Lib\\site-packages\\keras\\src\\layers\\core\\embedding.py:90: UserWarning: Argument `input_length` is deprecated. Just remove it.\n",
      "  warnings.warn(\n"
     ]
    },
    {
     "name": "stdout",
     "output_type": "stream",
     "text": [
      "Training RNN model...\n"
     ]
    },
    {
     "name": "stderr",
     "output_type": "stream",
     "text": [
      "C:\\Users\\ASUS\\anaconda3\\Lib\\site-packages\\keras\\src\\layers\\core\\embedding.py:90: UserWarning: Argument `input_length` is deprecated. Just remove it.\n",
      "  warnings.warn(\n"
     ]
    },
    {
     "name": "stdout",
     "output_type": "stream",
     "text": [
      "Training LSTM model...\n"
     ]
    },
    {
     "name": "stderr",
     "output_type": "stream",
     "text": [
      "C:\\Users\\ASUS\\anaconda3\\Lib\\site-packages\\keras\\src\\layers\\core\\embedding.py:90: UserWarning: Argument `input_length` is deprecated. Just remove it.\n",
      "  warnings.warn(\n"
     ]
    },
    {
     "name": "stdout",
     "output_type": "stream",
     "text": [
      "Training GRU model...\n"
     ]
    },
    {
     "name": "stderr",
     "output_type": "stream",
     "text": [
      "C:\\Users\\ASUS\\anaconda3\\Lib\\site-packages\\keras\\src\\layers\\core\\embedding.py:90: UserWarning: Argument `input_length` is deprecated. Just remove it.\n",
      "  warnings.warn(\n"
     ]
    }
   ],
   "source": [
    "# Training and Evaluation\n",
    "results = []\n",
    "model_types = [\"CNN\", \"RNN\", \"LSTM\", \"GRU\"]\n",
    "\n",
    "for model_type in model_types:\n",
    "    print(f\"Training {model_type} model...\")\n",
    "    model = create_model(model_type)\n",
    "\n",
    "    model.fit(X_train, y_train, epochs=5, batch_size=32, verbose=0,\n",
    "              validation_data=(X_test, y_test),  # Use test set for validation\n",
    "              callbacks=[EarlyStopping(monitor='val_loss', patience=1, restore_best_weights=True)])\n",
    "\n",
    "    y_pred = (model.predict(X_test, verbose=0) > 0.5).astype(\"int32\")\n",
    "    y_prob = model.predict(X_test, verbose=0).flatten()\n",
    "\n",
    "    accuracy = accuracy_score(y_test, y_pred)\n",
    "    precision = precision_score(y_test, y_pred, zero_division=0)\n",
    "    recall = recall_score(y_test, y_pred)\n",
    "    f1 = f1_score(y_test, y_pred)\n",
    "    auc = roc_auc_score(y_test, y_prob)\n",
    "\n",
    "    results.append([model_type, accuracy, precision, recall, f1, auc])"
   ]
  },
  {
   "cell_type": "code",
   "execution_count": 32,
   "metadata": {
    "colab": {
     "base_uri": "https://localhost:8080/"
    },
    "id": "kWz6EfGx-Wgc",
    "outputId": "5549a32b-fd74-436a-8610-a84e405ee2ea"
   },
   "outputs": [
    {
     "name": "stdout",
     "output_type": "stream",
     "text": [
      "  Model  Accuracy  Precision    Recall  F1-Score       AUC\n",
      "0   CNN  0.977173   0.968750  0.942568  0.955479  0.997936\n",
      "1   RNN  0.970149   0.978102  0.905405  0.940351  0.996289\n",
      "2  LSTM  0.972783   0.940199  0.956081  0.948074  0.996201\n",
      "3   GRU  0.970149   0.948630  0.935811  0.942177  0.994433\n"
     ]
    }
   ],
   "source": [
    "# Display results in a table\n",
    "df_results = pd.DataFrame(results, columns=['Model', 'Accuracy', 'Precision', 'Recall', 'F1-Score', 'AUC'])\n",
    "print(df_results)"
   ]
  },
  {
   "cell_type": "code",
   "execution_count": null,
   "metadata": {},
   "outputs": [],
   "source": []
  }
 ],
 "metadata": {
  "colab": {
   "provenance": []
  },
  "kernelspec": {
   "display_name": "Python [conda env:base] *",
   "language": "python",
   "name": "conda-base-py"
  },
  "language_info": {
   "codemirror_mode": {
    "name": "ipython",
    "version": 3
   },
   "file_extension": ".py",
   "mimetype": "text/x-python",
   "name": "python",
   "nbconvert_exporter": "python",
   "pygments_lexer": "ipython3",
   "version": "3.12.7"
  }
 },
 "nbformat": 4,
 "nbformat_minor": 4
}
