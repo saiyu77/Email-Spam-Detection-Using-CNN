{
 "cells": [
  {
   "cell_type": "code",
   "execution_count": 1,
   "metadata": {
    "id": "4S_0aqXCHX61"
   },
   "outputs": [],
   "source": [
    "import numpy as np\n",
    "import pandas as pd\n",
    "from sklearn.model_selection import KFold\n",
    "from tensorflow.keras.preprocessing.text import Tokenizer\n",
    "from tensorflow.keras.models import Sequential\n",
    "from tensorflow.keras.layers import Embedding, Conv1D, GlobalMaxPooling1D, Dense\n",
    "from tensorflow.keras.preprocessing.sequence import pad_sequences\n",
    "from sklearn.model_selection import train_test_split\n",
    "from tensorflow.keras.models import load_model"
   ]
  },
  {
   "cell_type": "code",
   "execution_count": 3,
   "metadata": {
    "colab": {
     "base_uri": "https://localhost:8080/",
     "height": 206
    },
    "id": "u2Yu9UfnInVl",
    "outputId": "3126dbea-c8ce-402a-c0bf-e55d395d6962"
   },
   "outputs": [
    {
     "data": {
      "text/html": [
       "<div>\n",
       "<style scoped>\n",
       "    .dataframe tbody tr th:only-of-type {\n",
       "        vertical-align: middle;\n",
       "    }\n",
       "\n",
       "    .dataframe tbody tr th {\n",
       "        vertical-align: top;\n",
       "    }\n",
       "\n",
       "    .dataframe thead th {\n",
       "        text-align: right;\n",
       "    }\n",
       "</style>\n",
       "<table border=\"1\" class=\"dataframe\">\n",
       "  <thead>\n",
       "    <tr style=\"text-align: right;\">\n",
       "      <th></th>\n",
       "      <th>text</th>\n",
       "      <th>spam</th>\n",
       "    </tr>\n",
       "  </thead>\n",
       "  <tbody>\n",
       "    <tr>\n",
       "      <th>988</th>\n",
       "      <td>Subject: returned mail : see transcript for de...</td>\n",
       "      <td>1</td>\n",
       "    </tr>\n",
       "    <tr>\n",
       "      <th>2497</th>\n",
       "      <td>Subject: re : weather and energy price data  m...</td>\n",
       "      <td>0</td>\n",
       "    </tr>\n",
       "    <tr>\n",
       "      <th>4007</th>\n",
       "      <td>Subject: re : ebs var transaction policy  i ha...</td>\n",
       "      <td>0</td>\n",
       "    </tr>\n",
       "    <tr>\n",
       "      <th>2006</th>\n",
       "      <td>Subject: re : executive program on credit risk...</td>\n",
       "      <td>0</td>\n",
       "    </tr>\n",
       "    <tr>\n",
       "      <th>2231</th>\n",
       "      <td>Subject: re : check  vince ,  ?  oh . ? i sent...</td>\n",
       "      <td>0</td>\n",
       "    </tr>\n",
       "  </tbody>\n",
       "</table>\n",
       "</div>"
      ],
      "text/plain": [
       "                                                   text  spam\n",
       "988   Subject: returned mail : see transcript for de...     1\n",
       "2497  Subject: re : weather and energy price data  m...     0\n",
       "4007  Subject: re : ebs var transaction policy  i ha...     0\n",
       "2006  Subject: re : executive program on credit risk...     0\n",
       "2231  Subject: re : check  vince ,  ?  oh . ? i sent...     0"
      ]
     },
     "execution_count": 3,
     "metadata": {},
     "output_type": "execute_result"
    }
   ],
   "source": [
    "# 1. Load your data from the CSV file\n",
    "df = pd.read_csv('emails.csv')\n",
    "df.sample(5)"
   ]
  },
  {
   "cell_type": "code",
   "execution_count": 5,
   "metadata": {
    "id": "uocX-WXAIeUx"
   },
   "outputs": [],
   "source": [
    "X = df['text'].astype(str).values # Email text\n",
    "y = df['spam'].values  # Spam (1) or not spam (0)"
   ]
  },
  {
   "cell_type": "code",
   "execution_count": 7,
   "metadata": {
    "id": "mZs0S6T6IaEM"
   },
   "outputs": [],
   "source": [
    "max_words = 10000  # Maximum number of words to keep\n",
    "tokenizer = Tokenizer(num_words=max_words, oov_token=\"<unk>\") # <unk> for unknown words\n",
    "\n",
    "# Fit tokenizer on the text\n",
    "tokenizer.fit_on_texts(X)\n",
    "\n",
    "# Convert text to sequences of integers\n",
    "X = tokenizer.texts_to_sequences(X)"
   ]
  },
  {
   "cell_type": "code",
   "execution_count": 9,
   "metadata": {
    "id": "sjttSiNzIX3w"
   },
   "outputs": [],
   "source": [
    "# 3. Padding\n",
    "max_len = 200  # Maximum sequence length\n",
    "X = pad_sequences(X, maxlen=max_len)"
   ]
  },
  {
   "cell_type": "code",
   "execution_count": 11,
   "metadata": {
    "id": "uPC4NWleITwq"
   },
   "outputs": [],
   "source": [
    "# 4. Define CNN model\n",
    "def create_cnn_model(vocab_size, max_len):\n",
    "    model = Sequential()\n",
    "    model.add(Embedding(vocab_size, 128, input_length=max_len))\n",
    "    model.add(Conv1D(128, kernel_size=5, activation='relu'))\n",
    "    model.add(GlobalMaxPooling1D())\n",
    "    model.add(Dense(1, activation='sigmoid'))\n",
    "    model.compile(optimizer='adam', loss='binary_crossentropy', metrics=['accuracy'])\n",
    "    return model"
   ]
  },
  {
   "cell_type": "code",
   "execution_count": 26,
   "metadata": {
    "colab": {
     "base_uri": "https://localhost:8080/"
    },
    "id": "fXE6Fk0vIFat",
    "outputId": "d0ec2431-7261-4236-ce8b-83957c6d100f"
   },
   "outputs": [
    {
     "name": "stderr",
     "output_type": "stream",
     "text": [
      "C:\\Users\\ASUS\\anaconda3\\Lib\\site-packages\\keras\\src\\layers\\core\\embedding.py:90: UserWarning: Argument `input_length` is deprecated. Just remove it.\n",
      "  warnings.warn(\n"
     ]
    },
    {
     "name": "stdout",
     "output_type": "stream",
     "text": [
      "Fold 1 - Loss: 0.0370, Accuracy: 0.9878\n",
      "Fold 2 - Loss: 0.0596, Accuracy: 0.9791\n",
      "Fold 3 - Loss: 0.0439, Accuracy: 0.9825\n",
      "Fold 4 - Loss: 0.0544, Accuracy: 0.9825\n",
      "Fold 5 - Loss: 0.0255, Accuracy: 0.9930\n",
      "Fold 6 - Loss: 0.0246, Accuracy: 0.9930\n",
      "Fold 7 - Loss: 0.0478, Accuracy: 0.9878\n",
      "Fold 8 - Loss: 0.0293, Accuracy: 0.9930\n",
      "Fold 9 - Loss: 0.0395, Accuracy: 0.9860\n",
      "Fold 10 - Loss: 0.0335, Accuracy: 0.9895\n"
     ]
    }
   ],
   "source": [
    "# 5. K-Fold Cross-Validation\n",
    "kf = KFold(n_splits=10, shuffle=True, random_state=42)\n",
    "losses = []\n",
    "accuracies = []\n",
    "fold_no = 1\n",
    "for train_index, test_index in kf.split(X, y):\n",
    "    X_train, X_test = X[train_index], X[test_index]\n",
    "    y_train, y_test = y[train_index], y[test_index]\n",
    "\n",
    "    # Get the vocabulary size\n",
    "    vocab_size = len(tokenizer.word_index) + 1  # +1 for the padding token\n",
    "\n",
    "    # Create and train the CNN model\n",
    "    cnn_model = create_cnn_model(vocab_size, max_len)\n",
    "    cnn_model.fit(X_train, y_train, epochs=2, batch_size=32, verbose=0)\n",
    "\n",
    "    # Evaluate the model\n",
    "    loss, accuracy = cnn_model.evaluate(X_test, y_test, verbose=0)\n",
    "    losses.append(loss)\n",
    "    accuracies.append(accuracy)\n",
    "    print(f\"Fold {fold_no} - Loss: {loss:.4f}, Accuracy: {accuracy:.4f}\")\n",
    "    fold_no += 1"
   ]
  },
  {
   "cell_type": "code",
   "execution_count": 30,
   "metadata": {},
   "outputs": [
    {
     "data": {
      "image/png": "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",
      "text/plain": [
       "<Figure size 1000x600 with 2 Axes>"
      ]
     },
     "metadata": {},
     "output_type": "display_data"
    }
   ],
   "source": [
    "import matplotlib.pyplot as plt\n",
    "# Fold labels\n",
    "folds = [f\"Fold {i}\" for i in range(1, 11)]\n",
    "fig, ax1 = plt.subplots(figsize=(10, 6))\n",
    "# Bar plot for accuracy\n",
    "ax1.bar(folds, accuracies, color='skyblue', label='Accuracy')\n",
    "ax1.set_ylabel('Accuracy', color='blue')\n",
    "ax1.set_ylim(0.94, 1.0)\n",
    "ax1.tick_params(axis='y', labelcolor='blue')\n",
    "# Line plot for loss\n",
    "ax2 = ax1.twinx()\n",
    "ax2.plot(folds, losses, color='red', marker='o', label='Loss')\n",
    "ax2.set_ylabel('Loss', color='red')\n",
    "ax2.set_ylim(0, max(losses) + 0.01)\n",
    "ax2.tick_params(axis='y', labelcolor='red')\n",
    "plt.title('K-Fold Validation: Accuracy and Loss per Fold')\n",
    "plt.tight_layout()\n",
    "plt.show()"
   ]
  },
  {
   "cell_type": "code",
   "execution_count": 28,
   "metadata": {},
   "outputs": [],
   "source": [
    "cnn_model.save('cnn_model.keras')"
   ]
  },
  {
   "cell_type": "code",
   "execution_count": null,
   "metadata": {},
   "outputs": [
    {
     "name": "stderr",
     "output_type": "stream",
     "text": [
      "C:\\Users\\ASUS\\anaconda3\\Lib\\site-packages\\keras\\src\\saving\\saving_lib.py:757: UserWarning: Skipping variable loading for optimizer 'rmsprop', because it has 7 variables whereas the saved optimizer has 12 variables. \n",
      "  saveable.load_own_variables(weights_store.get(inner_path))\n"
     ]
    },
    {
     "data": {
      "text/plain": [
       "'cnn_model.mds'"
      ]
     },
     "execution_count": 30,
     "metadata": {},
     "output_type": "execute_result"
    }
   ],
   "source": [
    "model = load_model('cnn_model.keras')"
   ]
  },
  {
   "cell_type": "code",
   "execution_count": 34,
   "metadata": {},
   "outputs": [],
   "source": [
    "import pickle\n",
    "with open('tokenizer.pickle', 'wb') as handle:\n",
    "    pickle.dump(tokenizer, handle, protocol=pickle.HIGHEST_PROTOCOL)\n"
   ]
  }
 ],
 "metadata": {
  "colab": {
   "provenance": []
  },
  "kernelspec": {
   "display_name": "Python [conda env:base] *",
   "language": "python",
   "name": "conda-base-py"
  },
  "language_info": {
   "codemirror_mode": {
    "name": "ipython",
    "version": 3
   },
   "file_extension": ".py",
   "mimetype": "text/x-python",
   "name": "python",
   "nbconvert_exporter": "python",
   "pygments_lexer": "ipython3",
   "version": "3.12.7"
  },
   "nbformat": 4,
 "nbformat_minor": 4
}
