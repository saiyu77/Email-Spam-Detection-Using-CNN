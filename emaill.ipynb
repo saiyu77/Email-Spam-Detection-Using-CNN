{
 "cells": [
  {
   "cell_type": "markdown",
   "id": "5ff9d724-f794-43dd-9967-175d287dc958",
   "metadata": {},
   "source": [
    "### Import Libraries"
   ]
  },
  {
   "cell_type": "code",
   "execution_count": 2,
   "id": "51c3a472-428b-4825-93c0-035ab5865564",
   "metadata": {},
   "outputs": [],
   "source": [
    "## Data Handling\n",
    "import pandas as pd\n",
    "import numpy as np\n",
    "\n",
    "# Data Visualization\n",
    "import seaborn as sns\n",
    "import matplotlib.pyplot as plt\n",
    "\n",
    "#Text Processing\n",
    "import string\n",
    "import nltk\n",
    "from nltk.corpus import stopwords\n",
    "\n",
    "from sklearn.feature_extraction.text import TfidfVectorizer\n",
    "from sklearn.preprocessing import MinMaxScaler\n",
    "from imblearn.over_sampling import SMOTE\n",
    "from sklearn.model_selection import train_test_split\n",
    "from gensim.models import Word2Vec\n",
    "from nltk.tokenize import word_tokenize"
   ]
  },
  {
   "cell_type": "code",
   "execution_count": 4,
   "id": "00fdd4d8-76d7-49b5-88c7-802003d7b5f4",
   "metadata": {},
   "outputs": [],
   "source": [
    "# Tradional Learning Model\n",
    "from sklearn.naive_bayes import MultinomialNB\n",
    "from sklearn.svm import SVC\n",
    "from sklearn.tree import DecisionTreeClassifier\n",
    "from sklearn.ensemble import RandomForestClassifier, GradientBoostingClassifier\n",
    "from sklearn.metrics import accuracy_score, precision_score, recall_score, f1_score, roc_auc_score"
   ]
  },
  {
   "cell_type": "markdown",
   "id": "ea0bfb6b-3a1c-4703-818c-d9cba7c9d2cc",
   "metadata": {},
   "source": [
    "### Data Loading"
   ]
  },
  {
   "cell_type": "code",
   "execution_count": 6,
   "id": "68c65479-36eb-4883-b29f-fcbf06c93449",
   "metadata": {},
   "outputs": [
    {
     "data": {
      "text/plain": [
       "(5726, 2)"
      ]
     },
     "execution_count": 6,
     "metadata": {},
     "output_type": "execute_result"
    }
   ],
   "source": [
    "# Load the dataset\n",
    "emaill = pd.read_csv(\"emails.csv\")\n",
    "emaill.shape"
   ]
  },
  {
   "cell_type": "code",
   "execution_count": 8,
   "id": "1587e0c4-1f5a-4a8c-a780-254b3f2712a3",
   "metadata": {},
   "outputs": [
    {
     "data": {
      "text/html": [
       "<div>\n",
       "<style scoped>\n",
       "    .dataframe tbody tr th:only-of-type {\n",
       "        vertical-align: middle;\n",
       "    }\n",
       "\n",
       "    .dataframe tbody tr th {\n",
       "        vertical-align: top;\n",
       "    }\n",
       "\n",
       "    .dataframe thead th {\n",
       "        text-align: right;\n",
       "    }\n",
       "</style>\n",
       "<table border=\"1\" class=\"dataframe\">\n",
       "  <thead>\n",
       "    <tr style=\"text-align: right;\">\n",
       "      <th></th>\n",
       "      <th>text</th>\n",
       "      <th>spam</th>\n",
       "    </tr>\n",
       "  </thead>\n",
       "  <tbody>\n",
       "    <tr>\n",
       "      <th>2884</th>\n",
       "      <td>Subject: enron contact info  dear vince , chri...</td>\n",
       "      <td>0</td>\n",
       "    </tr>\n",
       "    <tr>\n",
       "      <th>1921</th>\n",
       "      <td>Subject: a visit  professor vincent kaminski  ...</td>\n",
       "      <td>0</td>\n",
       "    </tr>\n",
       "    <tr>\n",
       "      <th>592</th>\n",
       "      <td>Subject: free lancer eventos  free lancer even...</td>\n",
       "      <td>1</td>\n",
       "    </tr>\n",
       "    <tr>\n",
       "      <th>45</th>\n",
       "      <td>Subject: 1000 full color brochures 335  the ts...</td>\n",
       "      <td>1</td>\n",
       "    </tr>\n",
       "    <tr>\n",
       "      <th>367</th>\n",
       "      <td>Subject: feel insecure about your penis size ?...</td>\n",
       "      <td>1</td>\n",
       "    </tr>\n",
       "  </tbody>\n",
       "</table>\n",
       "</div>"
      ],
      "text/plain": [
       "                                                   text  spam\n",
       "2884  Subject: enron contact info  dear vince , chri...     0\n",
       "1921  Subject: a visit  professor vincent kaminski  ...     0\n",
       "592   Subject: free lancer eventos  free lancer even...     1\n",
       "45    Subject: 1000 full color brochures 335  the ts...     1\n",
       "367   Subject: feel insecure about your penis size ?...     1"
      ]
     },
     "execution_count": 8,
     "metadata": {},
     "output_type": "execute_result"
    }
   ],
   "source": [
    "# Show dataset sample (5 random records)\n",
    "emaill.sample(5)"
   ]
  },
  {
   "cell_type": "code",
   "execution_count": 10,
   "id": "9aa923bd-e2b6-407d-8259-820e4ee7a905",
   "metadata": {},
   "outputs": [
    {
     "name": "stdout",
     "output_type": "stream",
     "text": [
      "<class 'pandas.core.frame.DataFrame'>\n",
      "RangeIndex: 5726 entries, 0 to 5725\n",
      "Data columns (total 2 columns):\n",
      " #   Column  Non-Null Count  Dtype \n",
      "---  ------  --------------  ----- \n",
      " 0   text    5726 non-null   object\n",
      " 1   spam    5726 non-null   int64 \n",
      "dtypes: int64(1), object(1)\n",
      "memory usage: 89.6+ KB\n"
     ]
    }
   ],
   "source": [
    "# Show Dataset info\n",
    "emaill.info()"
   ]
  },
  {
   "cell_type": "code",
   "execution_count": 12,
   "id": "3c4539d0-b72a-4a3c-806b-a8b5d4da4952",
   "metadata": {},
   "outputs": [
    {
     "data": {
      "text/html": [
       "<div>\n",
       "<style scoped>\n",
       "    .dataframe tbody tr th:only-of-type {\n",
       "        vertical-align: middle;\n",
       "    }\n",
       "\n",
       "    .dataframe tbody tr th {\n",
       "        vertical-align: top;\n",
       "    }\n",
       "\n",
       "    .dataframe thead th {\n",
       "        text-align: right;\n",
       "    }\n",
       "</style>\n",
       "<table border=\"1\" class=\"dataframe\">\n",
       "  <thead>\n",
       "    <tr style=\"text-align: right;\">\n",
       "      <th></th>\n",
       "      <th>spam</th>\n",
       "    </tr>\n",
       "  </thead>\n",
       "  <tbody>\n",
       "    <tr>\n",
       "      <th>count</th>\n",
       "      <td>5726.000000</td>\n",
       "    </tr>\n",
       "    <tr>\n",
       "      <th>mean</th>\n",
       "      <td>0.238910</td>\n",
       "    </tr>\n",
       "    <tr>\n",
       "      <th>std</th>\n",
       "      <td>0.426455</td>\n",
       "    </tr>\n",
       "    <tr>\n",
       "      <th>min</th>\n",
       "      <td>0.000000</td>\n",
       "    </tr>\n",
       "    <tr>\n",
       "      <th>25%</th>\n",
       "      <td>0.000000</td>\n",
       "    </tr>\n",
       "    <tr>\n",
       "      <th>50%</th>\n",
       "      <td>0.000000</td>\n",
       "    </tr>\n",
       "    <tr>\n",
       "      <th>75%</th>\n",
       "      <td>0.000000</td>\n",
       "    </tr>\n",
       "    <tr>\n",
       "      <th>max</th>\n",
       "      <td>1.000000</td>\n",
       "    </tr>\n",
       "  </tbody>\n",
       "</table>\n",
       "</div>"
      ],
      "text/plain": [
       "              spam\n",
       "count  5726.000000\n",
       "mean      0.238910\n",
       "std       0.426455\n",
       "min       0.000000\n",
       "25%       0.000000\n",
       "50%       0.000000\n",
       "75%       0.000000\n",
       "max       1.000000"
      ]
     },
     "execution_count": 12,
     "metadata": {},
     "output_type": "execute_result"
    }
   ],
   "source": [
    "# Show dataset statistics\n",
    "emaill.describe()"
   ]
  },
  {
   "cell_type": "code",
   "execution_count": 14,
   "id": "cd1a0ec1-a1b9-463c-957a-2d9de129a2ae",
   "metadata": {},
   "outputs": [
    {
     "name": "stderr",
     "output_type": "stream",
     "text": [
      "C:\\Users\\ASUS\\AppData\\Local\\Temp\\ipykernel_6584\\4140072555.py:3: FutureWarning: \n",
      "\n",
      "Passing `palette` without assigning `hue` is deprecated and will be removed in v0.14.0. Assign the `x` variable to `hue` and set `legend=False` for the same effect.\n",
      "\n",
      "  sns.barplot(x=counts.index, y=counts, palette=['green', 'red'])\n"
     ]
    },
    {
     "data": {
      "image/png": "[encoded data removed]",
      "text/plain": [
       "<Figure size 640x480 with 1 Axes>"
      ]
     },
     "metadata": {},
     "output_type": "display_data"
    }
   ],
   "source": [
    "# Visualize spam  frequenices\n",
    "counts = emaill['spam'].value_counts()\n",
    "sns.barplot(x=counts.index, y=counts, palette=['green', 'red'])\n",
    "plt.show()"
   ]
  },
  {
   "cell_type": "markdown",
   "id": "6f23de11-9f56-4d0e-a9dc-8ebb45a19f49",
   "metadata": {},
   "source": [
    "### Data Cleaning"
   ]
  },
  {
   "cell_type": "code",
   "execution_count": 17,
   "id": "94411218-3c53-4ba9-8c54-1f28d4779853",
   "metadata": {},
   "outputs": [
    {
     "data": {
      "text/plain": [
       "text    0\n",
       "spam    0\n",
       "dtype: int64"
      ]
     },
     "execution_count": 17,
     "metadata": {},
     "output_type": "execute_result"
    }
   ],
   "source": [
    "# Check for missing data for each column\n",
    "emaill.isnull().sum()"
   ]
  },
  {
   "cell_type": "code",
   "execution_count": 19,
   "id": "461bca2c-c48a-4fa5-b7a0-7c4c78346f0f",
   "metadata": {},
   "outputs": [
    {
     "name": "stdout",
     "output_type": "stream",
     "text": [
      "33\n"
     ]
    }
   ],
   "source": [
    "# Check for duplicates\n",
    "print(emaill.duplicated().sum())"
   ]
  },
  {
   "cell_type": "code",
   "execution_count": 21,
   "id": "b63cd1f1-bd89-4dd0-b2c2-f2acd6aa9d3d",
   "metadata": {},
   "outputs": [],
   "source": [
    "# Remove the duplicates\n",
    "emaill.drop_duplicates(inplace=True)"
   ]
  },
  {
   "cell_type": "code",
   "execution_count": 23,
   "id": "cebd3f63-4386-4113-83c2-6cbd43792120",
   "metadata": {},
   "outputs": [],
   "source": [
    "# Cleaning data for punctuation and stopwords and then tokenizing it into words(tokens)\n",
    "def process(text):\n",
    "    nopunc = [char for char in text if char not in string.punctuation]\n",
    "    nopunc = ''.join(nopunc)\n",
    "    clean = [word for word in nopunc.split() if word.lower() not in stopwords.words('english')]\n",
    "    return clean"
   ]
  },
  {
   "cell_type": "code",
   "execution_count": 25,
   "id": "bdb014e0-9872-4c00-9cf1-d9f79932d47c",
   "metadata": {},
   "outputs": [],
   "source": [
    "# Fit the TfidfVectorizer to data\n",
    "vectorizer = TfidfVectorizer()\n",
    "X_tfidf = vectorizer.fit_transform(emaill['text'])"
   ]
  },
  {
   "cell_type": "code",
   "execution_count": 27,
   "id": "3e9f0a3c-ff65-4ed9-982f-3a9125262671",
   "metadata": {},
   "outputs": [
    {
     "name": "stdout",
     "output_type": "stream",
     "text": [
      "  (0, 32261)\t0.015869077237502232\n",
      "  (0, 23314)\t0.10909323378445086\n",
      "  (0, 18781)\t0.12755136382412047\n",
      "  (0, 36899)\t0.17211702510478571\n",
      "  (0, 10021)\t0.06618523527153461\n",
      "  (0, 17635)\t0.08277868435943463\n",
      "  (0, 21087)\t0.10021264762237797\n",
      "  (0, 18791)\t0.065465115922263\n",
      "  (0, 27928)\t0.06073231281507161\n",
      "  (0, 16609)\t0.06982622809735332\n",
      "  (0, 33682)\t0.06942043029109944\n",
      "  (0, 28052)\t0.10138867275640004\n",
      "  (0, 9259)\t0.14926880633527487\n",
      "  (0, 33336)\t0.08882167409893697\n",
      "  (0, 21601)\t0.10315657516801603\n",
      "  (0, 15369)\t0.059773026206629186\n",
      "  (0, 24203)\t0.08175960483535999\n",
      "  (0, 32525)\t0.11011740056117715\n",
      "  (0, 4822)\t0.09752600462766482\n",
      "  (0, 18178)\t0.040161050040373784\n",
      "  (0, 18827)\t0.12009283992971354\n",
      "  (0, 7527)\t0.07968451024849035\n",
      "  (0, 16026)\t0.09210196350065326\n",
      "  (0, 8024)\t0.10201106928273937\n",
      "  (0, 20900)\t0.2359328894232443\n",
      "  :\t:\n",
      "  (5692, 24779)\t0.09642305867992114\n",
      "  (5692, 21571)\t0.047024374651792405\n",
      "  (5692, 5701)\t0.5355921423437737\n",
      "  (5692, 30865)\t0.05044957488816161\n",
      "  (5692, 2799)\t0.16809118954043373\n",
      "  (5692, 13286)\t0.059510238038197084\n",
      "  (5692, 13075)\t0.05701904437914247\n",
      "  (5692, 17328)\t0.044894416584784436\n",
      "  (5692, 14076)\t0.05515834729325738\n",
      "  (5692, 20217)\t0.05044957488816161\n",
      "  (5692, 31754)\t0.053672609363990514\n",
      "  (5692, 13076)\t0.05243576414724667\n",
      "  (5692, 20411)\t0.06329231993472235\n",
      "  (5692, 35214)\t0.054378272683960616\n",
      "  (5692, 8593)\t0.059510238038197084\n",
      "  (5692, 30019)\t0.061162361867714385\n",
      "  (5692, 13469)\t0.31646159967361176\n",
      "  (5692, 36118)\t0.06329231993472235\n",
      "  (5692, 939)\t0.1265846398694447\n",
      "  (5692, 2768)\t0.06329231993472235\n",
      "  (5692, 30216)\t0.06629432722195085\n",
      "  (5692, 17529)\t0.06629432722195085\n",
      "  (5692, 33853)\t0.06629432722195085\n",
      "  (5692, 10328)\t0.06629432722195085\n",
      "  (5692, 11336)\t0.06629432722195085\n"
     ]
    }
   ],
   "source": [
    "print(X_tfidf)"
   ]
  },
  {
   "cell_type": "code",
   "execution_count": 29,
   "id": "a735c15d-8b11-4f69-89be-638089f093cf",
   "metadata": {},
   "outputs": [],
   "source": [
    "# Word Embedding using Word2Vec\n",
    "def get_word_vectors(tokens, model):\n",
    "    vectors = [model.wv[word] for word in tokens if word in model.wv]\n",
    "    return np.mean(vectors, axis=0) if vectors else np.zeros(model.vector_size)\n",
    "    \n",
    "emaill['tokens'] = emaill['text'].apply(lambda x: x.split())  # Simple tokenization by splitting on spaces\n",
    "word2vec_model = Word2Vec(sentences=emaill['tokens'], vector_size=100, window=5, min_count=1, workers=4)\n",
    "\n",
    "X_word2vec = np.array([get_word_vectors(tokens, word2vec_model) for tokens in emaill['tokens']])"
   ]
  },
  {
   "cell_type": "code",
   "execution_count": 31,
   "id": "4b73a14f-7a27-49c4-bb26-c621f8367653",
   "metadata": {},
   "outputs": [
    {
     "name": "stdout",
     "output_type": "stream",
     "text": [
      "[[ 5.2481837e-04  1.7590507e+00 -4.2443943e-01 ...  1.3523528e-01\n",
      "   4.1398358e-01 -3.7071300e-01]\n",
      " [-1.1155776e-01  4.3185973e-01 -1.0150965e-02 ... -8.3139598e-02\n",
      "   2.5967357e-01 -5.2008146e-01]\n",
      " [ 3.6488873e-01  2.6331005e-01  1.5111554e-01 ... -4.3376431e-01\n",
      "   5.9394759e-01 -2.6266155e-01]\n",
      " ...\n",
      " [ 8.2596660e-01  3.2402351e-01  6.9994204e-02 ... -2.4472944e-01\n",
      "   5.7886523e-01  1.7851955e-01]\n",
      " [ 7.0728970e-01  2.3146343e-01 -7.8542829e-01 ... -5.1992369e-01\n",
      "   4.7491655e-01  1.3184552e+00]\n",
      " [ 1.7902966e-01  4.2191425e-01  3.6510080e-01 ... -5.2910888e-01\n",
      "   4.0680915e-01 -1.4983153e-01]]\n"
     ]
    }
   ],
   "source": [
    "print(X_word2vec)"
   ]
  },
  {
   "cell_type": "code",
   "execution_count": 33,
   "id": "ceca7bfd-efb6-4af1-a633-b33c411c815b",
   "metadata": {},
   "outputs": [],
   "source": [
    "# Combine TF-IDF and Word2Vec features\n",
    "X_tfidf_dense = X_tfidf.toarray()\n",
    "X_combined = np.hstack((X_tfidf_dense, X_word2vec))\n",
    "\n",
    "# Split the combined data\n",
    "X_train_combined, X_test_combined, y_train_combined, y_test_combined = train_test_split(X_combined, emaill['spam'], test_size=0.2, random_state=42)\n",
    "\n",
    "# Apply SMOTE to the combined data\n",
    "smote = SMOTE()\n",
    "X_train_resampled_combined, y_train_resampled_combined = smote.fit_resample(X_train_combined, y_train_combined)"
   ]
  },
  {
   "cell_type": "code",
   "execution_count": 35,
   "id": "364acae4-606e-4136-a1c3-6010358598f3",
   "metadata": {},
   "outputs": [
    {
     "name": "stdout",
     "output_type": "stream",
     "text": [
      "spam\n",
      "0    3482\n",
      "1    3482\n",
      "Name: count, dtype: int64\n"
     ]
    }
   ],
   "source": [
    "print(pd.Series(y_train_resampled_combined).value_counts())"
   ]
  },
  {
   "cell_type": "code",
   "execution_count": 37,
   "id": "77619ae1-e32d-41b4-a79a-222ac9fb1db5",
   "metadata": {},
   "outputs": [],
   "source": [
    "# Holdout CrossValidation\n",
    "X_train, X_val, y_train, y_val = train_test_split(X_train_combined, y_train_combined, test_size=0.2, random_state=42)"
   ]
  },
  {
   "cell_type": "code",
   "execution_count": 39,
   "id": "e38568bb-94e0-4d63-9ae6-6fa82faf36bf",
   "metadata": {},
   "outputs": [
    {
     "name": "stdout",
     "output_type": "stream",
     "text": [
      "X_train shape: (3643, 37278)\n",
      "X_val shape: (911, 37278)\n",
      "y_train shape: (3643,)\n",
      "y_val shape: (911,)\n",
      "\n",
      "X_train example:\n",
      " [[ 0.          0.          0.         ... -0.44312298  0.79326379\n",
      "   1.17796183]\n",
      " [ 0.          0.          0.         ... -0.49037194  0.79309952\n",
      "   1.05324769]\n",
      " [ 0.          0.          0.         ... -0.52659994  0.65711141\n",
      "   0.54492927]\n",
      " [ 0.02621456  0.          0.         ... -0.46584296  0.63999933\n",
      "   0.95769984]\n",
      " [ 0.          0.          0.         ... -0.5998773   0.18139549\n",
      "   0.84011894]]\n",
      "\n",
      "X_val example:\n",
      " [[ 0.          0.          0.         ... -0.43943286  0.67274475\n",
      "   0.04503013]\n",
      " [ 0.          0.          0.         ... -0.68748927  0.48015201\n",
      "  -0.08072476]\n",
      " [ 0.          0.          0.         ... -0.29772243  0.41525573\n",
      "   0.35345608]\n",
      " [ 0.          0.          0.         ... -0.48287636  0.97477716\n",
      "   0.76377016]\n",
      " [ 0.          0.          0.         ... -0.43738803  0.1340989\n",
      "  -0.55269969]]\n"
     ]
    }
   ],
   "source": [
    "print(\"X_train shape:\", X_train.shape)\n",
    "print(\"X_val shape:\", X_val.shape)\n",
    "print(\"y_train shape:\", y_train.shape)\n",
    "print(\"y_val shape:\", y_val.shape)\n",
    "\n",
    "print(\"\\nX_train example:\\n\", X_train[:5])\n",
    "print(\"\\nX_val example:\\n\", X_val[:5])"
   ]
  },
  {
   "cell_type": "code",
   "execution_count": 45,
   "id": "ea52ab82-5f3f-4332-a8a5-60e919ecff6c",
   "metadata": {},
   "outputs": [],
   "source": [
    "scaler = MinMaxScaler()\n",
    "X_train = scaler.fit_transform(X_train)\n",
    "X_val = scaler.transform(X_val)\n",
    "X_test = scaler.transform(X_test_combined)"
   ]
  },
  {
   "cell_type": "code",
   "execution_count": 49,
   "id": "5512bcfb-6c4b-4dc3-8470-3039f2a94eae",
   "metadata": {},
   "outputs": [
    {
     "name": "stdout",
     "output_type": "stream",
     "text": [
      "Traditional ML models evaluated successfully!\n"
     ]
    }
   ],
   "source": [
    "# Define models\n",
    "models = {\n",
    "    \"Naive Bayes\": MultinomialNB(),\n",
    "    \"SVM\": SVC(probability=True),\n",
    "    \"Decision Tree\": DecisionTreeClassifier(),\n",
    "    \"Random Forest\": RandomForestClassifier(),\n",
    "    \"Gradient Boosting\": GradientBoostingClassifier()\n",
    "}\n",
    "\n",
    "# Store results\n",
    "results = []\n",
    "\n",
    "for name, model in models.items():\n",
    "    model.fit(X_train, y_train)\n",
    "    y_pred = model.predict(X_val)\n",
    "    y_prob = model.predict_proba(X_val)[:, 1] if hasattr(model, \"predict_proba\") else None\n",
    "\n",
    "    accuracy = accuracy_score(y_val, y_pred)\n",
    "    precision = precision_score(y_val, y_pred)\n",
    "    recall = recall_score(y_val, y_pred)\n",
    "    f1 = f1_score(y_val, y_pred)\n",
    "    auc = roc_auc_score(y_val, y_prob) if y_prob is not None else \"N/A\"\n",
    "\n",
    "    results.append([name, accuracy, precision, recall, f1, auc])\n",
    "print(\"Traditional ML models evaluated successfully!\")\n"
   ]
  },
  {
   "cell_type": "code",
   "execution_count": 51,
   "id": "149740cc-e0a3-49bb-a816-f82c501dfef8",
   "metadata": {},
   "outputs": [
    {
     "name": "stdout",
     "output_type": "stream",
     "text": [
      "               Model  Accuracy  Precision    Recall  F1-Score       AUC\n",
      "0        Naive Bayes  0.920966   0.980000  0.680556  0.803279  0.996270\n",
      "1                SVM  0.949506   0.837302  0.976852  0.901709  0.993265\n",
      "2      Decision Tree  0.960483   0.920561  0.912037  0.916279  0.943788\n",
      "3      Random Forest  0.960483   0.994505  0.837963  0.909548  0.997808\n",
      "4  Gradient Boosting  0.974753   0.953052  0.939815  0.946387  0.997702\n"
     ]
    }
   ],
   "source": [
    "result_df = pd.DataFrame(results,columns=[\"Model\",\"Accuracy\",\"Precision\",\"Recall\",\"F1-Score\",\"AUC\"])\n",
    "print(result_df)"
   ]
  },
  {
   "cell_type": "code",
   "execution_count": null,
   "id": "f4def5ad-5674-45a2-9aae-5d2788c82127",
   "metadata": {},
   "outputs": [],
   "source": []
  }
 ],
 "metadata": {
  "kernelspec": {
   "display_name": "Python [conda env:base] *",
   "language": "python",
   "name": "conda-base-py"
  },
  "language_info": {
   "codemirror_mode": {
    "name": "ipython",
    "version": 3
   },
   "file_extension": ".py",
   "mimetype": "text/x-python",
   "name": "python",
   "nbconvert_exporter": "python",
   "pygments_lexer": "ipython3",
   "version": "3.12.7"
  }
 },
 "nbformat": 4,
 "nbformat_minor": 5
}
